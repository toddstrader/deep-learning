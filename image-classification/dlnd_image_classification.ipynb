{
 "cells": [
  {
   "cell_type": "markdown",
   "metadata": {
    "collapsed": true,
    "deletable": true,
    "editable": true
   },
   "source": [
    "# Image Classification\n",
    "In this project, you'll classify images from the [CIFAR-10 dataset](https://www.cs.toronto.edu/~kriz/cifar.html).  The dataset consists of airplanes, dogs, cats, and other objects. You'll preprocess the images, then train a convolutional neural network on all the samples. The images need to be normalized and the labels need to be one-hot encoded.  You'll get to apply what you learned and build a convolutional, max pooling, dropout, and fully connected layers.  At the end, you'll get to see your neural network's predictions on the sample images.\n",
    "## Get the Data\n",
    "Run the following cell to download the [CIFAR-10 dataset for python](https://www.cs.toronto.edu/~kriz/cifar-10-python.tar.gz)."
   ]
  },
  {
   "cell_type": "code",
   "execution_count": 1,
   "metadata": {
    "collapsed": false,
    "deletable": true,
    "editable": true
   },
   "outputs": [
    {
     "name": "stderr",
     "output_type": "stream",
     "text": [
      "CIFAR-10 Dataset: 171MB [01:23, 2.05MB/s]                              \n"
     ]
    },
    {
     "name": "stdout",
     "output_type": "stream",
     "text": [
      "All files found!\n"
     ]
    }
   ],
   "source": [
    "\"\"\"\n",
    "DON'T MODIFY ANYTHING IN THIS CELL THAT IS BELOW THIS LINE\n",
    "\"\"\"\n",
    "from urllib.request import urlretrieve\n",
    "from os.path import isfile, isdir\n",
    "from tqdm import tqdm\n",
    "import problem_unittests as tests\n",
    "import tarfile\n",
    "\n",
    "cifar10_dataset_folder_path = 'cifar-10-batches-py'\n",
    "\n",
    "class DLProgress(tqdm):\n",
    "    last_block = 0\n",
    "\n",
    "    def hook(self, block_num=1, block_size=1, total_size=None):\n",
    "        self.total = total_size\n",
    "        self.update((block_num - self.last_block) * block_size)\n",
    "        self.last_block = block_num\n",
    "\n",
    "if not isfile('cifar-10-python.tar.gz'):\n",
    "    with DLProgress(unit='B', unit_scale=True, miniters=1, desc='CIFAR-10 Dataset') as pbar:\n",
    "        urlretrieve(\n",
    "            'https://www.cs.toronto.edu/~kriz/cifar-10-python.tar.gz',\n",
    "            'cifar-10-python.tar.gz',\n",
    "            pbar.hook)\n",
    "\n",
    "if not isdir(cifar10_dataset_folder_path):\n",
    "    with tarfile.open('cifar-10-python.tar.gz') as tar:\n",
    "        tar.extractall()\n",
    "        tar.close()\n",
    "\n",
    "\n",
    "tests.test_folder_path(cifar10_dataset_folder_path)"
   ]
  },
  {
   "cell_type": "markdown",
   "metadata": {
    "deletable": true,
    "editable": true
   },
   "source": [
    "## Explore the Data\n",
    "The dataset is broken into batches to prevent your machine from running out of memory.  The CIFAR-10 dataset consists of 5 batches, named `data_batch_1`, `data_batch_2`, etc.. Each batch contains the labels and images that are one of the following:\n",
    "* airplane\n",
    "* automobile\n",
    "* bird\n",
    "* cat\n",
    "* deer\n",
    "* dog\n",
    "* frog\n",
    "* horse\n",
    "* ship\n",
    "* truck\n",
    "\n",
    "Understanding a dataset is part of making predictions on the data.  Play around with the code cell below by changing the `batch_id` and `sample_id`. The `batch_id` is the id for a batch (1-5). The `sample_id` is the id for a image and label pair in the batch.\n",
    "\n",
    "Ask yourself \"What are all possible labels?\", \"What is the range of values for the image data?\", \"Are the labels in order or random?\".  Answers to questions like these will help you preprocess the data and end up with better predictions."
   ]
  },
  {
   "cell_type": "code",
   "execution_count": 2,
   "metadata": {
    "collapsed": false,
    "deletable": true,
    "editable": true
   },
   "outputs": [
    {
     "name": "stdout",
     "output_type": "stream",
     "text": [
      "\n",
      "Stats of batch 1:\n",
      "Samples: 10000\n",
      "Label Counts: {0: 1005, 1: 974, 2: 1032, 3: 1016, 4: 999, 5: 937, 6: 1030, 7: 1001, 8: 1025, 9: 981}\n",
      "First 20 Labels: [6, 9, 9, 4, 1, 1, 2, 7, 8, 3, 4, 7, 7, 2, 9, 9, 9, 3, 2, 6]\n",
      "\n",
      "Example of Image 0:\n",
      "Image - Min Value: 0 Max Value: 255\n",
      "Image - Shape: (32, 32, 3)\n",
      "Label - Label Id: 6 Name: frog\n"
     ]
    },
    {
     "data": {
      "image/png": "[encoded data removed]",
      "text/plain": [
       "<matplotlib.figure.Figure at 0x7f00767b2be0>"
      ]
     },
     "metadata": {
      "image/png": {
       "height": 250,
       "width": 253
      }
     },
     "output_type": "display_data"
    }
   ],
   "source": [
    "%matplotlib inline\n",
    "%config InlineBackend.figure_format = 'retina'\n",
    "\n",
    "import helper\n",
    "import numpy as np\n",
    "\n",
    "# Explore the dataset\n",
    "batch_id = 1\n",
    "sample_id = 0\n",
    "helper.display_stats(cifar10_dataset_folder_path, batch_id, sample_id)"
   ]
  },
  {
   "cell_type": "markdown",
   "metadata": {
    "deletable": true,
    "editable": true
   },
   "source": [
    "## Implement Preprocess Functions\n",
    "### Normalize\n",
    "In the cell below, implement the `normalize` function to take in image data, `x`, and return it as a normalized Numpy array. The values should be in the range of 0 to 1, inclusive.  The return object should be the same shape as `x`."
   ]
  },
  {
   "cell_type": "code",
   "execution_count": 3,
   "metadata": {
    "collapsed": false,
    "deletable": true,
    "editable": true
   },
   "outputs": [
    {
     "name": "stdout",
     "output_type": "stream",
     "text": [
      "Tests Passed\n"
     ]
    }
   ],
   "source": [
    "#from sklearn.preprocessing import minmax_scale\n",
    "\n",
    "def normalize(x):\n",
    "    \"\"\"\n",
    "    Normalize a list of sample image data in the range of 0 to 1\n",
    "    : x: List of image data.  The image shape is (32, 32, 3)\n",
    "    : return: Numpy array of normalize data\n",
    "    \"\"\"\n",
    "    # TODO: Implement Function\n",
    "    return x/255.\n",
    "\n",
    "\n",
    "\"\"\"\n",
    "DON'T MODIFY ANYTHING IN THIS CELL THAT IS BELOW THIS LINE\n",
    "\"\"\"\n",
    "tests.test_normalize(normalize)"
   ]
  },
  {
   "cell_type": "markdown",
   "metadata": {
    "deletable": true,
    "editable": true
   },
   "source": [
    "### One-hot encode\n",
    "Just like the previous code cell, you'll be implementing a function for preprocessing.  This time, you'll implement the `one_hot_encode` function. The input, `x`, are a list of labels.  Implement the function to return the list of labels as One-Hot encoded Numpy array.  The possible values for labels are 0 to 9. The one-hot encoding function should return the same encoding for each value between each call to `one_hot_encode`.  Make sure to save the map of encodings outside the function.\n",
    "\n",
    "Hint: Don't reinvent the wheel."
   ]
  },
  {
   "cell_type": "code",
   "execution_count": 4,
   "metadata": {
    "collapsed": false,
    "deletable": true,
    "editable": true
   },
   "outputs": [
    {
     "name": "stdout",
     "output_type": "stream",
     "text": [
      "Tests Passed\n"
     ]
    }
   ],
   "source": [
    "def one_hot_encode(x):\n",
    "    \"\"\"\n",
    "    One hot encode a list of sample labels. Return a one-hot encoded vector for each label.\n",
    "    : x: List of sample Labels\n",
    "    : return: Numpy array of one-hot encoded labels\n",
    "    \"\"\"\n",
    "    # TODO: Implement Function\n",
    "    #unique = np.unique(x).tolist()\n",
    "    unique = range(10)\n",
    "    one_hot = np.zeros((len(x), len(unique)))\n",
    "    for i in range(len(x)):\n",
    "        one_hot[i, unique.index(x[i])] = 1\n",
    "    return one_hot\n",
    "\n",
    "\n",
    "\"\"\"\n",
    "DON'T MODIFY ANYTHING IN THIS CELL THAT IS BELOW THIS LINE\n",
    "\"\"\"\n",
    "tests.test_one_hot_encode(one_hot_encode)"
   ]
  },
  {
   "cell_type": "markdown",
   "metadata": {
    "deletable": true,
    "editable": true
   },
   "source": [
    "### Randomize Data\n",
    "As you saw from exploring the data above, the order of the samples are randomized.  It doesn't hurt to randomize it again, but you don't need to for this dataset."
   ]
  },
  {
   "cell_type": "markdown",
   "metadata": {
    "deletable": true,
    "editable": true
   },
   "source": [
    "## Preprocess all the data and save it\n",
    "Running the code cell below will preprocess all the CIFAR-10 data and save it to file. The code below also uses 10% of the training data for validation."
   ]
  },
  {
   "cell_type": "code",
   "execution_count": 5,
   "metadata": {
    "collapsed": false,
    "deletable": true,
    "editable": true
   },
   "outputs": [],
   "source": [
    "\"\"\"\n",
    "DON'T MODIFY ANYTHING IN THIS CELL\n",
    "\"\"\"\n",
    "# Preprocess Training, Validation, and Testing Data\n",
    "helper.preprocess_and_save_data(cifar10_dataset_folder_path, normalize, one_hot_encode)"
   ]
  },
  {
   "cell_type": "markdown",
   "metadata": {
    "deletable": true,
    "editable": true
   },
   "source": [
    "# Check Point\n",
    "This is your first checkpoint.  If you ever decide to come back to this notebook or have to restart the notebook, you can start from here.  The preprocessed data has been saved to disk."
   ]
  },
  {
   "cell_type": "code",
   "execution_count": 6,
   "metadata": {
    "collapsed": true,
    "deletable": true,
    "editable": true
   },
   "outputs": [],
   "source": [
    "\"\"\"\n",
    "DON'T MODIFY ANYTHING IN THIS CELL\n",
    "\"\"\"\n",
    "import pickle\n",
    "import problem_unittests as tests\n",
    "import helper\n",
    "\n",
    "# Load the Preprocessed Validation data\n",
    "valid_features, valid_labels = pickle.load(open('preprocess_validation.p', mode='rb'))"
   ]
  },
  {
   "cell_type": "markdown",
   "metadata": {
    "deletable": true,
    "editable": true
   },
   "source": [
    "## Build the network\n",
    "For the neural network, you'll build each layer into a function.  Most of the code you've seen has been outside of functions. To test your code more thoroughly, we require that you put each layer in a function.  This allows us to give you better feedback and test for simple mistakes using our unittests before you submit your project.\n",
    "\n",
    "If you're finding it hard to dedicate enough time for this course a week, we've provided a small shortcut to this part of the project. In the next couple of problems, you'll have the option to use [TensorFlow Layers](https://www.tensorflow.org/api_docs/python/tf/layers) or [TensorFlow Layers (contrib)](https://www.tensorflow.org/api_guides/python/contrib.layers) to build each layer, except \"Convolutional & Max Pooling\" layer.  TF Layers is similar to Keras's and TFLearn's abstraction to layers, so it's easy to pickup.\n",
    "\n",
    "If you would like to get the most of this course, try to solve all the problems without TF Layers.  Let's begin!\n",
    "### Input\n",
    "The neural network needs to read the image data, one-hot encoded labels, and dropout keep probability. Implement the following functions\n",
    "* Implement `neural_net_image_input`\n",
    " * Return a [TF Placeholder](https://www.tensorflow.org/api_docs/python/tf/placeholder)\n",
    " * Set the shape using `image_shape` with batch size set to `None`.\n",
    " * Name the TensorFlow placeholder \"x\" using the TensorFlow `name` parameter in the [TF Placeholder](https://www.tensorflow.org/api_docs/python/tf/placeholder).\n",
    "* Implement `neural_net_label_input`\n",
    " * Return a [TF Placeholder](https://www.tensorflow.org/api_docs/python/tf/placeholder)\n",
    " * Set the shape using `n_classes` with batch size set to `None`.\n",
    " * Name the TensorFlow placeholder \"y\" using the TensorFlow `name` parameter in the [TF Placeholder](https://www.tensorflow.org/api_docs/python/tf/placeholder).\n",
    "* Implement `neural_net_keep_prob_input`\n",
    " * Return a [TF Placeholder](https://www.tensorflow.org/api_docs/python/tf/placeholder) for dropout keep probability.\n",
    " * Name the TensorFlow placeholder \"keep_prob\" using the TensorFlow `name` parameter in the [TF Placeholder](https://www.tensorflow.org/api_docs/python/tf/placeholder).\n",
    "\n",
    "These names will be used at the end of the project to load your saved model.\n",
    "\n",
    "Note: `None` for shapes in TensorFlow allow for a dynamic size."
   ]
  },
  {
   "cell_type": "code",
   "execution_count": 7,
   "metadata": {
    "collapsed": false,
    "deletable": true,
    "editable": true
   },
   "outputs": [
    {
     "name": "stdout",
     "output_type": "stream",
     "text": [
      "Image Input Tests Passed.\n",
      "Label Input Tests Passed.\n",
      "Keep Prob Tests Passed.\n"
     ]
    }
   ],
   "source": [
    "import tensorflow as tf\n",
    "\n",
    "def neural_net_image_input(image_shape):\n",
    "    \"\"\"\n",
    "    Return a Tensor for a bach of image input\n",
    "    : image_shape: Shape of the images\n",
    "    : return: Tensor for image input.\n",
    "    \"\"\"\n",
    "    # TODO: Implement Function\n",
    "    return tf.placeholder(tf.float32, ((None, ) + image_shape), 'x')\n",
    "\n",
    "\n",
    "def neural_net_label_input(n_classes):\n",
    "    \"\"\"\n",
    "    Return a Tensor for a batch of label input\n",
    "    : n_classes: Number of classes\n",
    "    : return: Tensor for label input.\n",
    "    \"\"\"\n",
    "    # TODO: Implement Function\n",
    "    return tf.placeholder(tf.int32, (None, n_classes), 'y')\n",
    "\n",
    "\n",
    "def neural_net_keep_prob_input():\n",
    "    \"\"\"\n",
    "    Return a Tensor for keep probability\n",
    "    : return: Tensor for keep probability.\n",
    "    \"\"\"\n",
    "    # TODO: Implement Function\n",
    "    return tf.placeholder(tf.float32, name='keep_prob')\n",
    "\n",
    "\n",
    "\"\"\"\n",
    "DON'T MODIFY ANYTHING IN THIS CELL THAT IS BELOW THIS LINE\n",
    "\"\"\"\n",
    "tf.reset_default_graph()\n",
    "tests.test_nn_image_inputs(neural_net_image_input)\n",
    "tests.test_nn_label_inputs(neural_net_label_input)\n",
    "tests.test_nn_keep_prob_inputs(neural_net_keep_prob_input)"
   ]
  },
  {
   "cell_type": "markdown",
   "metadata": {
    "deletable": true,
    "editable": true
   },
   "source": [
    "### Convolution and Max Pooling Layer\n",
    "Convolution layers have a lot of success with images. For this code cell, you should implement the function `conv2d_maxpool` to apply convolution then max pooling:\n",
    "* Create the weight and bias using `conv_ksize`, `conv_num_outputs` and the shape of `x_tensor`.\n",
    "* Apply a convolution to `x_tensor` using weight and `conv_strides`.\n",
    " * We recommend you use same padding, but you're welcome to use any padding.\n",
    "* Add bias\n",
    "* Add a nonlinear activation to the convolution.\n",
    "* Apply Max Pooling using `pool_ksize` and `pool_strides`.\n",
    " * We recommend you use same padding, but you're welcome to use any padding.\n",
    "\n",
    "Note: You **can't** use [TensorFlow Layers](https://www.tensorflow.org/api_docs/python/tf/layers) or [TensorFlow Layers (contrib)](https://www.tensorflow.org/api_guides/python/contrib.layers) for this layer.  You're free to use any TensorFlow package for all the other layers."
   ]
  },
  {
   "cell_type": "code",
   "execution_count": 8,
   "metadata": {
    "collapsed": false,
    "deletable": true,
    "editable": true,
    "scrolled": false
   },
   "outputs": [
    {
     "name": "stdout",
     "output_type": "stream",
     "text": [
      "Tests Passed\n"
     ]
    }
   ],
   "source": [
    "def conv2d_maxpool(x_tensor, conv_num_outputs, conv_ksize, conv_strides, pool_ksize, pool_strides):\n",
    "    \"\"\"\n",
    "    Apply convolution then max pooling to x_tensor\n",
    "    :param x_tensor: TensorFlow Tensor\n",
    "    :param conv_num_outputs: Number of outputs for the convolutional layer\n",
    "    :param conv_strides: Stride 2-D Tuple for convolution\n",
    "    :param pool_ksize: kernal size 2-D Tuple for pool\n",
    "    :param pool_strides: Stride 2-D Tuple for pool\n",
    "    : return: A tensor that represents convolution and max pooling of x_tensor\n",
    "    \"\"\"\n",
    "    # TODO: Implement Function\n",
    "    in_channels = x_tensor.shape.as_list()[3]\n",
    "    conv_weights = tf.Variable(tf.random_normal(conv_ksize + (in_channels, conv_num_outputs), stddev=5e-2), name='conv_weights')\n",
    "    conv_bias = tf.Variable(tf.zeros((conv_num_outputs, )), name='conv_bias')\n",
    "    conv = tf.nn.conv2d(x_tensor, conv_weights, [1, conv_strides[0], conv_strides[1], 1], \"SAME\", name=\"the_2d_convolution\")\n",
    "    conv_w_bias = tf.nn.bias_add(conv, conv_bias, name=\"the_2d_convolution_with_bias\")\n",
    "    relu = tf.nn.relu(conv_w_bias, name=\"convoluiton_plus_relu\")\n",
    "    max_pool = tf.nn.max_pool(relu, ((1, ) + pool_ksize + (1, )), ((1, ) + pool_strides +  (1, )), \"SAME\")\n",
    "    return max_pool\n",
    "\n",
    "\n",
    "\"\"\"\n",
    "DON'T MODIFY ANYTHING IN THIS CELL THAT IS BELOW THIS LINE\n",
    "\"\"\"\n",
    "tests.test_con_pool(conv2d_maxpool)"
   ]
  },
  {
   "cell_type": "markdown",
   "metadata": {
    "deletable": true,
    "editable": true
   },
   "source": [
    "### Flatten Layer\n",
    "Implement the `flatten` function to change the dimension of `x_tensor` from a 4-D tensor to a 2-D tensor.  The output should be the shape (*Batch Size*, *Flattened Image Size*). You can use [TensorFlow Layers](https://www.tensorflow.org/api_docs/python/tf/layers) or [TensorFlow Layers (contrib)](https://www.tensorflow.org/api_guides/python/contrib.layers) for this layer."
   ]
  },
  {
   "cell_type": "code",
   "execution_count": 9,
   "metadata": {
    "collapsed": false,
    "deletable": true,
    "editable": true
   },
   "outputs": [
    {
     "name": "stdout",
     "output_type": "stream",
     "text": [
      "Tests Passed\n"
     ]
    }
   ],
   "source": [
    "def flatten(x_tensor):\n",
    "    \"\"\"\n",
    "    Flatten x_tensor to (Batch Size, Flattened Image Size)\n",
    "    : x_tensor: A tensor of size (Batch Size, ...), where ... are the image dimensions.\n",
    "    : return: A tensor of size (Batch Size, Flattened Image Size).\n",
    "    \"\"\"\n",
    "    # TODO: Implement Function\n",
    "    shape = x_tensor.shape.as_list()\n",
    "    x = shape[1] * shape[2] * shape[3]\n",
    "    return tf.reshape(x_tensor, [-1, x])\n",
    "\n",
    "\n",
    "\"\"\"\n",
    "DON'T MODIFY ANYTHING IN THIS CELL THAT IS BELOW THIS LINE\n",
    "\"\"\"\n",
    "tests.test_flatten(flatten)"
   ]
  },
  {
   "cell_type": "markdown",
   "metadata": {
    "deletable": true,
    "editable": true
   },
   "source": [
    "### Fully-Connected Layer\n",
    "Implement the `fully_conn` function to apply a fully connected layer to `x_tensor` with the shape (*Batch Size*, *num_outputs*). You can use [TensorFlow Layers](https://www.tensorflow.org/api_docs/python/tf/layers) or [TensorFlow Layers (contrib)](https://www.tensorflow.org/api_guides/python/contrib.layers) for this layer."
   ]
  },
  {
   "cell_type": "code",
   "execution_count": 10,
   "metadata": {
    "collapsed": false,
    "deletable": true,
    "editable": true
   },
   "outputs": [
    {
     "name": "stdout",
     "output_type": "stream",
     "text": [
      "Tests Passed\n"
     ]
    }
   ],
   "source": [
    "def fully_conn(x_tensor, num_outputs):\n",
    "    \"\"\"\n",
    "    Apply a fully connected layer to x_tensor using weight and bias\n",
    "    : x_tensor: A 2-D tensor where the first dimension is batch size.\n",
    "    : num_outputs: The number of output that the new tensor should be.\n",
    "    : return: A 2-D tensor where the second dimension is num_outputs.\n",
    "    \"\"\"\n",
    "    # TODO: Implement Function\n",
    "    shape = x_tensor.shape.as_list()\n",
    "    weights = tf.Variable(tf.random_normal((shape[1], num_outputs), stddev=5e-2), dtype=tf.float32, name='fully_conn_weights')\n",
    "    biases = tf.Variable(tf.zeros((num_outputs, )), dtype=tf.float32, name='fully_conn_biases')\n",
    "    return tf.add(tf.matmul(x_tensor, weights), biases)\n",
    "\n",
    "\n",
    "\"\"\"\n",
    "DON'T MODIFY ANYTHING IN THIS CELL THAT IS BELOW THIS LINE\n",
    "\"\"\"\n",
    "tests.test_fully_conn(fully_conn)"
   ]
  },
  {
   "cell_type": "markdown",
   "metadata": {
    "deletable": true,
    "editable": true
   },
   "source": [
    "### Output Layer\n",
    "Implement the `output` function to apply a fully connected layer to `x_tensor` with the shape (*Batch Size*, *num_outputs*). You can use [TensorFlow Layers](https://www.tensorflow.org/api_docs/python/tf/layers) or [TensorFlow Layers (contrib)](https://www.tensorflow.org/api_guides/python/contrib.layers) for this layer.\n",
    "\n",
    "Note: Activation, softmax, or cross entropy shouldn't be applied to this."
   ]
  },
  {
   "cell_type": "code",
   "execution_count": 11,
   "metadata": {
    "collapsed": false,
    "deletable": true,
    "editable": true
   },
   "outputs": [
    {
     "name": "stdout",
     "output_type": "stream",
     "text": [
      "Tests Passed\n"
     ]
    }
   ],
   "source": [
    "def output(x_tensor, num_outputs):\n",
    "    \"\"\"\n",
    "    Apply a output layer to x_tensor using weight and bias\n",
    "    : x_tensor: A 2-D tensor where the first dimension is batch size.\n",
    "    : num_outputs: The number of output that the new tensor should be.\n",
    "    : return: A 2-D tensor where the second dimension is num_outputs.\n",
    "    \"\"\"\n",
    "    # TODO: Implement Function\n",
    "    # TODO is this supposed to be different than the other fully connected layer?\n",
    "    return fully_conn(x_tensor, num_outputs)\n",
    "\n",
    "\n",
    "\"\"\"\n",
    "DON'T MODIFY ANYTHING IN THIS CELL THAT IS BELOW THIS LINE\n",
    "\"\"\"\n",
    "tests.test_output(output)"
   ]
  },
  {
   "cell_type": "markdown",
   "metadata": {
    "deletable": true,
    "editable": true
   },
   "source": [
    "### Create Convolutional Model\n",
    "Implement the function `conv_net` to create a convolutional neural network model. The function takes in a batch of images, `x`, and outputs logits.  Use the layers you created above to create this model:\n",
    "\n",
    "* Apply 1, 2, or 3 Convolution and Max Pool layers\n",
    "* Apply a Flatten Layer\n",
    "* Apply 1, 2, or 3 Fully Connected Layers\n",
    "* Apply an Output Layer\n",
    "* Return the output\n",
    "* Apply [TensorFlow's Dropout](https://www.tensorflow.org/api_docs/python/tf/nn/dropout) to one or more layers in the model using `keep_prob`. "
   ]
  },
  {
   "cell_type": "code",
   "execution_count": 73,
   "metadata": {
    "collapsed": false,
    "deletable": true,
    "editable": true
   },
   "outputs": [
    {
     "name": "stdout",
     "output_type": "stream",
     "text": [
      "Neural Network Built!\n"
     ]
    }
   ],
   "source": [
    "def conv_net(x, keep_prob):\n",
    "    \"\"\"\n",
    "    Create a convolutional neural network model\n",
    "    : x: Placeholder tensor that holds image data.\n",
    "    : keep_prob: Placeholder tensor that hold dropout keep probability.\n",
    "    : return: Tensor that represents logits\n",
    "    \"\"\"\n",
    "    # TODO: Apply 1, 2, or 3 Convolution and Max Pool layers\n",
    "    #    Play around with different number of outputs, kernel size and stride\n",
    "    # Function Definition from Above:\n",
    "    #    conv2d_maxpool(x_tensor, conv_num_outputs, conv_ksize, conv_strides, pool_ksize, pool_strides)\n",
    "    conv_params = [\n",
    "        {'OUTPUTS': 256, 'CONV_KSIZE': (8, 8), 'CONV_STRIDES': (2, 2), 'POOL_KSIZE': (4, 4), 'POOL_STRIDES': (2, 2)},\n",
    "        {'OUTPUTS': 256, 'CONV_KSIZE': (4, 4), 'CONV_STRIDES': (2, 2), 'POOL_KSIZE': (4, 4), 'POOL_STRIDES': (2, 2)},\n",
    "        {'OUTPUTS': 128, 'CONV_KSIZE': (2, 2), 'CONV_STRIDES': (1, 1), 'POOL_KSIZE': (2, 2), 'POOL_STRIDES': (2, 2)}\n",
    "    ]\n",
    "    # TODO - remove\n",
    "    #conv_params = [ {'OUTPUTS': 2, 'CONV_KSIZE': (8, 8), 'CONV_STRIDES': (1, 1), 'POOL_KSIZE': (2, 2), 'POOL_STRIDES': (2, 2)} ]\n",
    "    conv_tensor = x\n",
    "    for params in conv_params:\n",
    "        conv_tensor = conv2d_maxpool(conv_tensor, params['OUTPUTS'], params['CONV_KSIZE'], \\\n",
    "                                    params['CONV_STRIDES'], params['POOL_KSIZE'], params['POOL_STRIDES'])\n",
    "        conv_tensor = tf.nn.dropout(conv_tensor, keep_prob)\n",
    "    \n",
    "\n",
    "    # TODO: Apply a Flatten Layer\n",
    "    # Function Definition from Above:\n",
    "    #   flatten(x_tensor)\n",
    "    flat_tensor = flatten(conv_tensor)\n",
    "    #flat_tensor = tf.nn.dropout(flat_tensor, keep_prob)\n",
    "    \n",
    "\n",
    "    # TODO: Apply 1, 2, or 3 Fully Connected Layers\n",
    "    #    Play around with different number of outputs\n",
    "    # Function Definition from Above:\n",
    "    #   fully_conn(x_tensor, num_outputs)\n",
    "    hidden_layers = [500, 250, 100]\n",
    "    # TODO - remove\n",
    "    #hidden_layers = [2]\n",
    "    fully_conn_tensor = flat_tensor\n",
    "    for hl in hidden_layers:\n",
    "        fully_conn_tensor = fully_conn(fully_conn_tensor, hl)\n",
    "        fully_conn_tensor = tf.nn.relu(fully_conn_tensor)\n",
    "        fully_conn_tensor = tf.nn.dropout(fully_conn_tensor, keep_prob)\n",
    "        \n",
    "    #fully_conn_tensor = tf.nn.dropout(fully_conn_tensor, keep_prob)\n",
    "    \n",
    "    \n",
    "    # TODO: Apply an Output Layer\n",
    "    #    Set this to the number of classes\n",
    "    # Function Definition from Above:\n",
    "    #   output(x_tensor, num_outputs)\n",
    "    # TODO - remove magic number\n",
    "    output_tensor = output(fully_conn_tensor, 10)\n",
    "    \n",
    "    # TODO: return output\n",
    "    return output_tensor\n",
    "\n",
    "\n",
    "\"\"\"\n",
    "DON'T MODIFY ANYTHING IN THIS CELL THAT IS BELOW THIS LINE\n",
    "\"\"\"\n",
    "\n",
    "##############################\n",
    "## Build the Neural Network ##\n",
    "##############################\n",
    "\n",
    "# Remove previous weights, bias, inputs, etc..\n",
    "tf.reset_default_graph()\n",
    "\n",
    "# Inputs\n",
    "x = neural_net_image_input((32, 32, 3))\n",
    "y = neural_net_label_input(10)\n",
    "keep_prob = neural_net_keep_prob_input()\n",
    "\n",
    "# Model\n",
    "logits = conv_net(x, keep_prob)\n",
    "\n",
    "# Name logits Tensor, so that is can be loaded from disk after training\n",
    "logits = tf.identity(logits, name='logits')\n",
    "\n",
    "# Loss and Optimizer\n",
    "cost = tf.reduce_mean(tf.nn.softmax_cross_entropy_with_logits(logits=logits, labels=y))\n",
    "optimizer = tf.train.AdamOptimizer().minimize(cost)\n",
    "\n",
    "# Accuracy\n",
    "correct_pred = tf.equal(tf.argmax(logits, 1), tf.argmax(y, 1))\n",
    "accuracy = tf.reduce_mean(tf.cast(correct_pred, tf.float32), name='accuracy')\n",
    "\n",
    "tests.test_conv_net(conv_net)"
   ]
  },
  {
   "cell_type": "markdown",
   "metadata": {
    "deletable": true,
    "editable": true
   },
   "source": [
    "## Train the Neural Network\n",
    "### Single Optimization\n",
    "Implement the function `train_neural_network` to do a single optimization.  The optimization should use `optimizer` to optimize in `session` with a `feed_dict` of the following:\n",
    "* `x` for image input\n",
    "* `y` for labels\n",
    "* `keep_prob` for keep probability for dropout\n",
    "\n",
    "This function will be called for each batch, so `tf.global_variables_initializer()` has already been called.\n",
    "\n",
    "Note: Nothing needs to be returned. This function is only optimizing the neural network."
   ]
  },
  {
   "cell_type": "code",
   "execution_count": 74,
   "metadata": {
    "collapsed": false,
    "deletable": true,
    "editable": true
   },
   "outputs": [
    {
     "name": "stdout",
     "output_type": "stream",
     "text": [
      "Tests Passed\n"
     ]
    }
   ],
   "source": [
    "def train_neural_network(session, optimizer, keep_probability, feature_batch, label_batch):\n",
    "    \"\"\"\n",
    "    Optimize the session on a batch of images and labels\n",
    "    : session: Current TensorFlow session\n",
    "    : optimizer: TensorFlow optimizer function\n",
    "    : keep_probability: keep probability\n",
    "    : feature_batch: Batch of Numpy image data\n",
    "    : label_batch: Batch of Numpy label data\n",
    "    \"\"\"\n",
    "    # TODO: Implement Function\n",
    "    session.run(optimizer, feed_dict={x: feature_batch, y: label_batch, keep_prob: keep_probability})\n",
    "    pass\n",
    "\n",
    "\n",
    "\"\"\"\n",
    "DON'T MODIFY ANYTHING IN THIS CELL THAT IS BELOW THIS LINE\n",
    "\"\"\"\n",
    "tests.test_train_nn(train_neural_network)"
   ]
  },
  {
   "cell_type": "markdown",
   "metadata": {
    "deletable": true,
    "editable": true
   },
   "source": [
    "### Show Stats\n",
    "Implement the function `print_stats` to print loss and validation accuracy.  Use the global variables `valid_features` and `valid_labels` to calculate validation accuracy.  Use a keep probability of `1.0` to calculate the loss and validation accuracy."
   ]
  },
  {
   "cell_type": "code",
   "execution_count": 75,
   "metadata": {
    "collapsed": false,
    "deletable": true,
    "editable": true
   },
   "outputs": [],
   "source": [
    "def print_stats(session, feature_batch, label_batch, cost, accuracy):\n",
    "    \"\"\"\n",
    "    Print information about loss and validation accuracy\n",
    "    : session: Current TensorFlow session\n",
    "    : feature_batch: Batch of Numpy image data\n",
    "    : label_batch: Batch of Numpy label data\n",
    "    : cost: TensorFlow cost function\n",
    "    : accuracy: TensorFlow accuracy function\n",
    "    \"\"\"\n",
    "    # TODO: Implement Function\n",
    "    loss = session.run(cost, feed_dict={x: feature_batch, y: label_batch, keep_prob: 1.0})\n",
    "    val_acc = session.run(accuracy, feed_dict={x: valid_features, y: valid_labels, keep_prob: 1.0})\n",
    "    print(\"loss = {:10.5f} accuracy = {:10.5f}\".format(loss, val_acc))\n",
    "    pass"
   ]
  },
  {
   "cell_type": "markdown",
   "metadata": {
    "deletable": true,
    "editable": true
   },
   "source": [
    "### Hyperparameters\n",
    "Tune the following parameters:\n",
    "* Set `epochs` to the number of iterations until the network stops learning or start overfitting\n",
    "* Set `batch_size` to the highest number that your machine has memory for.  Most people set them to common sizes of memory:\n",
    " * 64\n",
    " * 128\n",
    " * 256\n",
    " * ...\n",
    "* Set `keep_probability` to the probability of keeping a node using dropout"
   ]
  },
  {
   "cell_type": "code",
   "execution_count": 78,
   "metadata": {
    "collapsed": true,
    "deletable": true,
    "editable": true
   },
   "outputs": [],
   "source": [
    "# TODO: Tune Parameters\n",
    "epochs = 25\n",
    "batch_size = 64\n",
    "keep_probability = 0.75"
   ]
  },
  {
   "cell_type": "markdown",
   "metadata": {
    "deletable": true,
    "editable": true
   },
   "source": [
    "### Train on a Single CIFAR-10 Batch\n",
    "Instead of training the neural network on all the CIFAR-10 batches of data, let's use a single batch. This should save time while you iterate on the model to get a better accuracy.  Once the final validation accuracy is 50% or greater, run the model on all the data in the next section."
   ]
  },
  {
   "cell_type": "code",
   "execution_count": 79,
   "metadata": {
    "collapsed": false,
    "deletable": true,
    "editable": true
   },
   "outputs": [
    {
     "name": "stdout",
     "output_type": "stream",
     "text": [
      "Checking the Training on a Single Batch...\n",
      "Epoch  1, CIFAR-10 Batch 1:  loss =    2.06266 accuracy =    0.22140\n",
      "Epoch  2, CIFAR-10 Batch 1:  loss =    1.98660 accuracy =    0.27980\n",
      "Epoch  3, CIFAR-10 Batch 1:  loss =    1.85698 accuracy =    0.31200\n",
      "Epoch  4, CIFAR-10 Batch 1:  loss =    1.73177 accuracy =    0.37840\n",
      "Epoch  5, CIFAR-10 Batch 1:  loss =    1.64101 accuracy =    0.35640\n",
      "Epoch  6, CIFAR-10 Batch 1:  loss =    1.54270 accuracy =    0.39700\n",
      "Epoch  7, CIFAR-10 Batch 1:  loss =    1.52778 accuracy =    0.44380\n",
      "Epoch  8, CIFAR-10 Batch 1:  loss =    1.51773 accuracy =    0.41700\n",
      "Epoch  9, CIFAR-10 Batch 1:  loss =    1.27057 accuracy =    0.47420\n",
      "Epoch 10, CIFAR-10 Batch 1:  loss =    1.25476 accuracy =    0.48380\n",
      "Epoch 11, CIFAR-10 Batch 1:  loss =    1.18596 accuracy =    0.48740\n",
      "Epoch 12, CIFAR-10 Batch 1:  loss =    1.11859 accuracy =    0.50420\n",
      "Epoch 13, CIFAR-10 Batch 1:  loss =    1.09184 accuracy =    0.51440\n",
      "Epoch 14, CIFAR-10 Batch 1:  loss =    1.08412 accuracy =    0.51420\n",
      "Epoch 15, CIFAR-10 Batch 1:  loss =    0.94473 accuracy =    0.51500\n",
      "Epoch 16, CIFAR-10 Batch 1:  loss =    0.95860 accuracy =    0.53820\n",
      "Epoch 17, CIFAR-10 Batch 1:  loss =    0.89123 accuracy =    0.54200\n",
      "Epoch 18, CIFAR-10 Batch 1:  loss =    0.79858 accuracy =    0.53000\n",
      "Epoch 19, CIFAR-10 Batch 1:  loss =    0.84688 accuracy =    0.53700\n",
      "Epoch 20, CIFAR-10 Batch 1:  loss =    0.74087 accuracy =    0.54720\n",
      "Epoch 21, CIFAR-10 Batch 1:  loss =    0.76213 accuracy =    0.55400\n",
      "Epoch 22, CIFAR-10 Batch 1:  loss =    0.72405 accuracy =    0.55080\n",
      "Epoch 23, CIFAR-10 Batch 1:  loss =    0.80613 accuracy =    0.55320\n",
      "Epoch 24, CIFAR-10 Batch 1:  loss =    0.74745 accuracy =    0.55160\n",
      "Epoch 25, CIFAR-10 Batch 1:  loss =    0.74566 accuracy =    0.55320\n"
     ]
    }
   ],
   "source": [
    "\"\"\"\n",
    "DON'T MODIFY ANYTHING IN THIS CELL\n",
    "\"\"\"\n",
    "print('Checking the Training on a Single Batch...')\n",
    "with tf.Session() as sess:\n",
    "    # Initializing the variables\n",
    "    sess.run(tf.global_variables_initializer())\n",
    "    \n",
    "    # Training cycle\n",
    "    for epoch in range(epochs):\n",
    "        batch_i = 1\n",
    "        for batch_features, batch_labels in helper.load_preprocess_training_batch(batch_i, batch_size):\n",
    "            train_neural_network(sess, optimizer, keep_probability, batch_features, batch_labels)\n",
    "        print('Epoch {:>2}, CIFAR-10 Batch {}:  '.format(epoch + 1, batch_i), end='')\n",
    "        print_stats(sess, batch_features, batch_labels, cost, accuracy)"
   ]
  },
  {
   "cell_type": "markdown",
   "metadata": {
    "deletable": true,
    "editable": true
   },
   "source": [
    "### Fully Train the Model\n",
    "Now that you got a good accuracy with a single CIFAR-10 batch, try it with all five batches."
   ]
  },
  {
   "cell_type": "code",
   "execution_count": 80,
   "metadata": {
    "collapsed": false,
    "deletable": true,
    "editable": true
   },
   "outputs": [
    {
     "name": "stdout",
     "output_type": "stream",
     "text": [
      "Training...\n",
      "Epoch  1, CIFAR-10 Batch 1:  loss =    2.08618 accuracy =    0.22900\n",
      "Epoch  1, CIFAR-10 Batch 2:  loss =    1.95609 accuracy =    0.22400\n",
      "Epoch  1, CIFAR-10 Batch 3:  loss =    1.45221 accuracy =    0.33860\n",
      "Epoch  1, CIFAR-10 Batch 4:  loss =    1.70287 accuracy =    0.36780\n",
      "Epoch  1, CIFAR-10 Batch 5:  loss =    1.56498 accuracy =    0.39420\n",
      "Epoch  2, CIFAR-10 Batch 1:  loss =    1.70397 accuracy =    0.38180\n",
      "Epoch  2, CIFAR-10 Batch 2:  loss =    1.49428 accuracy =    0.43620\n",
      "Epoch  2, CIFAR-10 Batch 3:  loss =    1.20090 accuracy =    0.46280\n",
      "Epoch  2, CIFAR-10 Batch 4:  loss =    1.44809 accuracy =    0.47200\n",
      "Epoch  2, CIFAR-10 Batch 5:  loss =    1.39742 accuracy =    0.50520\n",
      "Epoch  3, CIFAR-10 Batch 1:  loss =    1.52204 accuracy =    0.48540\n",
      "Epoch  3, CIFAR-10 Batch 2:  loss =    1.23864 accuracy =    0.50680\n",
      "Epoch  3, CIFAR-10 Batch 3:  loss =    1.14697 accuracy =    0.51820\n",
      "Epoch  3, CIFAR-10 Batch 4:  loss =    1.43036 accuracy =    0.53220\n",
      "Epoch  3, CIFAR-10 Batch 5:  loss =    1.26552 accuracy =    0.53820\n",
      "Epoch  4, CIFAR-10 Batch 1:  loss =    1.30732 accuracy =    0.53760\n",
      "Epoch  4, CIFAR-10 Batch 2:  loss =    1.04552 accuracy =    0.55260\n",
      "Epoch  4, CIFAR-10 Batch 3:  loss =    1.00961 accuracy =    0.54560\n",
      "Epoch  4, CIFAR-10 Batch 4:  loss =    1.37019 accuracy =    0.56360\n",
      "Epoch  4, CIFAR-10 Batch 5:  loss =    1.18244 accuracy =    0.57780\n",
      "Epoch  5, CIFAR-10 Batch 1:  loss =    1.24496 accuracy =    0.57200\n",
      "Epoch  5, CIFAR-10 Batch 2:  loss =    1.03544 accuracy =    0.57500\n",
      "Epoch  5, CIFAR-10 Batch 3:  loss =    1.01789 accuracy =    0.56360\n",
      "Epoch  5, CIFAR-10 Batch 4:  loss =    1.22262 accuracy =    0.58360\n",
      "Epoch  5, CIFAR-10 Batch 5:  loss =    1.07076 accuracy =    0.60280\n",
      "Epoch  6, CIFAR-10 Batch 1:  loss =    1.20542 accuracy =    0.58620\n",
      "Epoch  6, CIFAR-10 Batch 2:  loss =    1.02303 accuracy =    0.59080\n",
      "Epoch  6, CIFAR-10 Batch 3:  loss =    0.85093 accuracy =    0.58960\n",
      "Epoch  6, CIFAR-10 Batch 4:  loss =    1.15822 accuracy =    0.58720\n",
      "Epoch  6, CIFAR-10 Batch 5:  loss =    1.08483 accuracy =    0.59940\n",
      "Epoch  7, CIFAR-10 Batch 1:  loss =    1.10642 accuracy =    0.59760\n",
      "Epoch  7, CIFAR-10 Batch 2:  loss =    0.81536 accuracy =    0.61120\n",
      "Epoch  7, CIFAR-10 Batch 3:  loss =    0.81901 accuracy =    0.60400\n",
      "Epoch  7, CIFAR-10 Batch 4:  loss =    1.03350 accuracy =    0.61200\n",
      "Epoch  7, CIFAR-10 Batch 5:  loss =    0.90130 accuracy =    0.62540\n",
      "Epoch  8, CIFAR-10 Batch 1:  loss =    0.98296 accuracy =    0.62500\n",
      "Epoch  8, CIFAR-10 Batch 2:  loss =    0.83015 accuracy =    0.60460\n",
      "Epoch  8, CIFAR-10 Batch 3:  loss =    0.78975 accuracy =    0.62860\n",
      "Epoch  8, CIFAR-10 Batch 4:  loss =    0.98452 accuracy =    0.62600\n",
      "Epoch  8, CIFAR-10 Batch 5:  loss =    0.90909 accuracy =    0.63600\n",
      "Epoch  9, CIFAR-10 Batch 1:  loss =    0.96388 accuracy =    0.62620\n",
      "Epoch  9, CIFAR-10 Batch 2:  loss =    0.79984 accuracy =    0.60740\n",
      "Epoch  9, CIFAR-10 Batch 3:  loss =    0.71826 accuracy =    0.62440\n",
      "Epoch  9, CIFAR-10 Batch 4:  loss =    0.99783 accuracy =    0.63820\n",
      "Epoch  9, CIFAR-10 Batch 5:  loss =    0.82615 accuracy =    0.64220\n",
      "Epoch 10, CIFAR-10 Batch 1:  loss =    0.91958 accuracy =    0.63260\n",
      "Epoch 10, CIFAR-10 Batch 2:  loss =    0.73475 accuracy =    0.65060\n",
      "Epoch 10, CIFAR-10 Batch 3:  loss =    0.61623 accuracy =    0.64620\n",
      "Epoch 10, CIFAR-10 Batch 4:  loss =    0.92814 accuracy =    0.64760\n",
      "Epoch 10, CIFAR-10 Batch 5:  loss =    0.79208 accuracy =    0.66140\n",
      "Epoch 11, CIFAR-10 Batch 1:  loss =    0.91951 accuracy =    0.63300\n",
      "Epoch 11, CIFAR-10 Batch 2:  loss =    0.79340 accuracy =    0.64220\n",
      "Epoch 11, CIFAR-10 Batch 3:  loss =    0.67246 accuracy =    0.64680\n",
      "Epoch 11, CIFAR-10 Batch 4:  loss =    0.96543 accuracy =    0.63860\n",
      "Epoch 11, CIFAR-10 Batch 5:  loss =    0.82190 accuracy =    0.65260\n",
      "Epoch 12, CIFAR-10 Batch 1:  loss =    0.80775 accuracy =    0.65800\n",
      "Epoch 12, CIFAR-10 Batch 2:  loss =    0.68466 accuracy =    0.65520\n",
      "Epoch 12, CIFAR-10 Batch 3:  loss =    0.58144 accuracy =    0.64700\n",
      "Epoch 12, CIFAR-10 Batch 4:  loss =    0.86021 accuracy =    0.66440\n",
      "Epoch 12, CIFAR-10 Batch 5:  loss =    0.75050 accuracy =    0.66520\n",
      "Epoch 13, CIFAR-10 Batch 1:  loss =    0.89752 accuracy =    0.65420\n",
      "Epoch 13, CIFAR-10 Batch 2:  loss =    0.65575 accuracy =    0.64920\n",
      "Epoch 13, CIFAR-10 Batch 3:  loss =    0.60294 accuracy =    0.66920\n",
      "Epoch 13, CIFAR-10 Batch 4:  loss =    0.77375 accuracy =    0.66440\n",
      "Epoch 13, CIFAR-10 Batch 5:  loss =    0.72910 accuracy =    0.67220\n",
      "Epoch 14, CIFAR-10 Batch 1:  loss =    0.92801 accuracy =    0.65600\n",
      "Epoch 14, CIFAR-10 Batch 2:  loss =    0.60547 accuracy =    0.65960\n",
      "Epoch 14, CIFAR-10 Batch 3:  loss =    0.47505 accuracy =    0.66340\n",
      "Epoch 14, CIFAR-10 Batch 4:  loss =    0.84119 accuracy =    0.66720\n",
      "Epoch 14, CIFAR-10 Batch 5:  loss =    0.62275 accuracy =    0.66840\n",
      "Epoch 15, CIFAR-10 Batch 1:  loss =    0.81127 accuracy =    0.64840\n",
      "Epoch 15, CIFAR-10 Batch 2:  loss =    0.60391 accuracy =    0.66260\n",
      "Epoch 15, CIFAR-10 Batch 3:  loss =    0.49721 accuracy =    0.67500\n",
      "Epoch 15, CIFAR-10 Batch 4:  loss =    0.81647 accuracy =    0.66640\n",
      "Epoch 15, CIFAR-10 Batch 5:  loss =    0.64176 accuracy =    0.68280\n",
      "Epoch 16, CIFAR-10 Batch 1:  loss =    0.75290 accuracy =    0.67100\n",
      "Epoch 16, CIFAR-10 Batch 2:  loss =    0.56776 accuracy =    0.66040\n",
      "Epoch 16, CIFAR-10 Batch 3:  loss =    0.64468 accuracy =    0.63100\n",
      "Epoch 16, CIFAR-10 Batch 4:  loss =    0.78396 accuracy =    0.68080\n",
      "Epoch 16, CIFAR-10 Batch 5:  loss =    0.61407 accuracy =    0.68080\n",
      "Epoch 17, CIFAR-10 Batch 1:  loss =    0.69627 accuracy =    0.67040\n",
      "Epoch 17, CIFAR-10 Batch 2:  loss =    0.54750 accuracy =    0.67720\n",
      "Epoch 17, CIFAR-10 Batch 3:  loss =    0.45927 accuracy =    0.67940\n",
      "Epoch 17, CIFAR-10 Batch 4:  loss =    0.78220 accuracy =    0.67260\n",
      "Epoch 17, CIFAR-10 Batch 5:  loss =    0.67951 accuracy =    0.67960\n",
      "Epoch 18, CIFAR-10 Batch 1:  loss =    0.74038 accuracy =    0.68240\n",
      "Epoch 18, CIFAR-10 Batch 2:  loss =    0.58094 accuracy =    0.66380\n",
      "Epoch 18, CIFAR-10 Batch 3:  loss =    0.46892 accuracy =    0.68900\n",
      "Epoch 18, CIFAR-10 Batch 4:  loss =    0.72378 accuracy =    0.68400\n",
      "Epoch 18, CIFAR-10 Batch 5:  loss =    0.61452 accuracy =    0.67960\n",
      "Epoch 19, CIFAR-10 Batch 1:  loss =    0.63551 accuracy =    0.67420\n",
      "Epoch 19, CIFAR-10 Batch 2:  loss =    0.48539 accuracy =    0.67900\n",
      "Epoch 19, CIFAR-10 Batch 3:  loss =    0.48088 accuracy =    0.68580\n",
      "Epoch 19, CIFAR-10 Batch 4:  loss =    0.77271 accuracy =    0.68260\n",
      "Epoch 19, CIFAR-10 Batch 5:  loss =    0.60670 accuracy =    0.67620\n",
      "Epoch 20, CIFAR-10 Batch 1:  loss =    0.68833 accuracy =    0.68200\n",
      "Epoch 20, CIFAR-10 Batch 2:  loss =    0.54164 accuracy =    0.68320\n",
      "Epoch 20, CIFAR-10 Batch 3:  loss =    0.31974 accuracy =    0.67860\n",
      "Epoch 20, CIFAR-10 Batch 4:  loss =    0.70756 accuracy =    0.68480\n",
      "Epoch 20, CIFAR-10 Batch 5:  loss =    0.57631 accuracy =    0.68880\n",
      "Epoch 21, CIFAR-10 Batch 1:  loss =    0.52473 accuracy =    0.66540\n",
      "Epoch 21, CIFAR-10 Batch 2:  loss =    0.53972 accuracy =    0.69420\n",
      "Epoch 21, CIFAR-10 Batch 3:  loss =    0.37624 accuracy =    0.68860\n",
      "Epoch 21, CIFAR-10 Batch 4:  loss =    0.67347 accuracy =    0.68060\n",
      "Epoch 21, CIFAR-10 Batch 5:  loss =    0.61882 accuracy =    0.68620\n",
      "Epoch 22, CIFAR-10 Batch 1:  loss =    0.60580 accuracy =    0.69440\n",
      "Epoch 22, CIFAR-10 Batch 2:  loss =    0.41294 accuracy =    0.67860\n",
      "Epoch 22, CIFAR-10 Batch 3:  loss =    0.32518 accuracy =    0.69360\n",
      "Epoch 22, CIFAR-10 Batch 4:  loss =    0.64563 accuracy =    0.68660\n",
      "Epoch 22, CIFAR-10 Batch 5:  loss =    0.53043 accuracy =    0.68700\n",
      "Epoch 23, CIFAR-10 Batch 1:  loss =    0.59816 accuracy =    0.68600\n",
      "Epoch 23, CIFAR-10 Batch 2:  loss =    0.57736 accuracy =    0.68120\n",
      "Epoch 23, CIFAR-10 Batch 3:  loss =    0.26255 accuracy =    0.69680\n",
      "Epoch 23, CIFAR-10 Batch 4:  loss =    0.60848 accuracy =    0.69100\n",
      "Epoch 23, CIFAR-10 Batch 5:  loss =    0.50715 accuracy =    0.70140\n",
      "Epoch 24, CIFAR-10 Batch 1:  loss =    0.49995 accuracy =    0.69220\n",
      "Epoch 24, CIFAR-10 Batch 2:  loss =    0.52584 accuracy =    0.68440\n",
      "Epoch 24, CIFAR-10 Batch 3:  loss =    0.32798 accuracy =    0.68420\n",
      "Epoch 24, CIFAR-10 Batch 4:  loss =    0.69484 accuracy =    0.69300\n",
      "Epoch 24, CIFAR-10 Batch 5:  loss =    0.49117 accuracy =    0.70260\n",
      "Epoch 25, CIFAR-10 Batch 1:  loss =    0.56660 accuracy =    0.68620\n",
      "Epoch 25, CIFAR-10 Batch 2:  loss =    0.50486 accuracy =    0.68960\n",
      "Epoch 25, CIFAR-10 Batch 3:  loss =    0.37738 accuracy =    0.67680\n",
      "Epoch 25, CIFAR-10 Batch 4:  loss =    0.55826 accuracy =    0.69460\n",
      "Epoch 25, CIFAR-10 Batch 5:  loss =    0.45966 accuracy =    0.69160\n"
     ]
    }
   ],
   "source": [
    "\"\"\"\n",
    "DON'T MODIFY ANYTHING IN THIS CELL\n",
    "\"\"\"\n",
    "save_model_path = './image_classification'\n",
    "\n",
    "print('Training...')\n",
    "with tf.Session() as sess:\n",
    "    # Initializing the variables\n",
    "    sess.run(tf.global_variables_initializer())\n",
    "    \n",
    "    # Training cycle\n",
    "    for epoch in range(epochs):\n",
    "        # Loop over all batches\n",
    "        n_batches = 5\n",
    "        for batch_i in range(1, n_batches + 1):\n",
    "            for batch_features, batch_labels in helper.load_preprocess_training_batch(batch_i, batch_size):\n",
    "                train_neural_network(sess, optimizer, keep_probability, batch_features, batch_labels)\n",
    "            print('Epoch {:>2}, CIFAR-10 Batch {}:  '.format(epoch + 1, batch_i), end='')\n",
    "            print_stats(sess, batch_features, batch_labels, cost, accuracy)\n",
    "            \n",
    "    # Save Model\n",
    "    saver = tf.train.Saver()\n",
    "    save_path = saver.save(sess, save_model_path)"
   ]
  },
  {
   "cell_type": "markdown",
   "metadata": {
    "deletable": true,
    "editable": true
   },
   "source": [
    "# Checkpoint\n",
    "The model has been saved to disk.\n",
    "## Test Model\n",
    "Test your model against the test dataset.  This will be your final accuracy. You should have an accuracy greater than 50%. If you don't, keep tweaking the model architecture and parameters."
   ]
  },
  {
   "cell_type": "code",
   "execution_count": 84,
   "metadata": {
    "collapsed": false,
    "deletable": true,
    "editable": true
   },
   "outputs": [
    {
     "name": "stdout",
     "output_type": "stream",
     "text": [
      "Testing Accuracy: 0.698546974522293\n",
      "\n"
     ]
    },
    {
     "data": {
      "image/png": "[encoded data removed]",
      "text/plain": [
       "<matplotlib.figure.Figure at 0x7f004c95cdd8>"
      ]
     },
     "metadata": {
      "image/png": {
       "height": 319,
       "width": 355
      }
     },
     "output_type": "display_data"
    }
   ],
   "source": [
    "\"\"\"\n",
    "DON'T MODIFY ANYTHING IN THIS CELL\n",
    "\"\"\"\n",
    "%matplotlib inline\n",
    "%config InlineBackend.figure_format = 'retina'\n",
    "\n",
    "import tensorflow as tf\n",
    "import pickle\n",
    "import helper\n",
    "import random\n",
    "\n",
    "# Set batch size if not already set\n",
    "try:\n",
    "    if batch_size:\n",
    "        pass\n",
    "except NameError:\n",
    "    batch_size = 64\n",
    "\n",
    "save_model_path = './image_classification'\n",
    "n_samples = 4\n",
    "top_n_predictions = 3\n",
    "\n",
    "def test_model():\n",
    "    \"\"\"\n",
    "    Test the saved model against the test dataset\n",
    "    \"\"\"\n",
    "\n",
    "    test_features, test_labels = pickle.load(open('preprocess_training.p', mode='rb'))\n",
    "    loaded_graph = tf.Graph()\n",
    "\n",
    "    with tf.Session(graph=loaded_graph) as sess:\n",
    "        # Load model\n",
    "        loader = tf.train.import_meta_graph(save_model_path + '.meta')\n",
    "        loader.restore(sess, save_model_path)\n",
    "\n",
    "        # Get Tensors from loaded model\n",
    "        loaded_x = loaded_graph.get_tensor_by_name('x:0')\n",
    "        loaded_y = loaded_graph.get_tensor_by_name('y:0')\n",
    "        loaded_keep_prob = loaded_graph.get_tensor_by_name('keep_prob:0')\n",
    "        loaded_logits = loaded_graph.get_tensor_by_name('logits:0')\n",
    "        loaded_acc = loaded_graph.get_tensor_by_name('accuracy:0')\n",
    "        \n",
    "        # Get accuracy in batches for memory limitations\n",
    "        test_batch_acc_total = 0\n",
    "        test_batch_count = 0\n",
    "        \n",
    "        for train_feature_batch, train_label_batch in helper.batch_features_labels(test_features, test_labels, batch_size):\n",
    "            test_batch_acc_total += sess.run(\n",
    "                loaded_acc,\n",
    "                feed_dict={loaded_x: train_feature_batch, loaded_y: train_label_batch, loaded_keep_prob: 1.0})\n",
    "            test_batch_count += 1\n",
    "\n",
    "        print('Testing Accuracy: {}\\n'.format(test_batch_acc_total/test_batch_count))\n",
    "\n",
    "        # Print Random Samples\n",
    "        random_test_features, random_test_labels = tuple(zip(*random.sample(list(zip(test_features, test_labels)), n_samples)))\n",
    "        random_test_predictions = sess.run(\n",
    "            tf.nn.top_k(tf.nn.softmax(loaded_logits), top_n_predictions),\n",
    "            feed_dict={loaded_x: random_test_features, loaded_y: random_test_labels, loaded_keep_prob: 1.0})\n",
    "        helper.display_image_predictions(random_test_features, random_test_labels, random_test_predictions)\n",
    "\n",
    "\n",
    "test_model()"
   ]
  },
  {
   "cell_type": "markdown",
   "metadata": {
    "deletable": true,
    "editable": true
   },
   "source": [
    "## Why 50-70% Accuracy?\n",
    "You might be wondering why you can't get an accuracy any higher. First things first, 50% isn't bad for a simple CNN.  Pure guessing would get you 10% accuracy. However, you might notice people are getting scores [well above 70%](http://rodrigob.github.io/are_we_there_yet/build/classification_datasets_results.html#43494641522d3130).  That's because we haven't taught you all there is to know about neural networks. We still need to cover a few more techniques.\n",
    "## Submitting This Project\n",
    "When submitting this project, make sure to run all the cells before saving the notebook.  Save the notebook file as \"dlnd_image_classification.ipynb\" and save it as a HTML file under \"File\" -> \"Download as\".  Include the \"helper.py\" and \"problem_unittests.py\" files in your submission."
   ]
  }
 ],
 "metadata": {
  "kernelspec": {
   "display_name": "Python 3",
   "language": "python",
   "name": "python3"
  },
  "language_info": {
   "codemirror_mode": {
    "name": "ipython",
    "version": 3
   },
   "file_extension": ".py",
   "mimetype": "text/x-python",
   "name": "python",
   "nbconvert_exporter": "python",
   "pygments_lexer": "ipython3",
   "version": "3.5.2"
  },
  "widgets": {
   "state": {},
   "version": "1.1.2"
  }
 },
 "nbformat": 4,
 "nbformat_minor": 0
}
